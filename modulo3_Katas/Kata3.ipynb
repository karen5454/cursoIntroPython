{
 "cells": [
  {
   "cell_type": "code",
   "execution_count": 17,
   "metadata": {},
   "outputs": [
    {
     "name": "stdout",
     "output_type": "stream",
     "text": [
      "¡Peligro! se aproxima un Asteroide a una gran velocidad\n"
     ]
    }
   ],
   "source": [
    "# Para este ejercicio, escribirás una lógica condicional que imprima una advertencia si un asteroide se acerca a la Tierra demasiado rápido. \n",
    "# La velocidad del asteroide varía dependiendo de lo cerca que esté del sol, y cualquier velocidad superior a 25 kilómetros por segundo (km/s) merece una advertencia.\n",
    "\n",
    "#Un asteroide se acerca, y viaja a una velocidad de 49 km/s.\n",
    "\n",
    "vel= 49 \n",
    "\n",
    "if vel >= 45:\n",
    "  print(\"¡Peligro! Se aproxima un Asteroide a una gran velocidad\")\n",
    "else: \n",
    "  print(\"Asteroide en camino\")  "
   ]
  },
  {
   "cell_type": "code",
   "execution_count": 1,
   "metadata": {},
   "outputs": [
    {
     "name": "stdout",
     "output_type": "stream",
     "text": [
      "Hay un Asteoride en el cielo pero no es posible ver su luz :(\n"
     ]
    }
   ],
   "source": [
    "# Si un asteroide entra en la atmósfera de la Tierra a una velocidad mayor o igual a 20 km/s, a veces produce un rayo de luz que se puede ver desde la Tierra.\n",
    "#  Escribe la lógica condicional que usa declaraciones if, else, y elif para alertar a las personas de todo el mundo que deben buscar un asteroide en el cielo. \n",
    "# ¡Hay uno que se dirige a la tierra ahora a una velocidad de 19 km/s.\n",
    "\n",
    "vel=19\n",
    "\n",
    "if vel >=20:\n",
    "    print(\"Hay un Asteoride en el cielo puedes ver el rayo de luz\")\n",
    "elif vel <20:\n",
    "    print(\"Hay un Asteoride en el cielo pero no es posible ver su luz :(\")\n",
    "else:\n",
    "    print(\"No hay nada en el cielo\")"
   ]
  },
  {
   "cell_type": "markdown",
   "metadata": {},
   "source": [
    "*Los asteroides de menos de 25 metros en su dimensión más grande probablemente se quemarán a medida que entren en la atmósfera de la Tierra.\n",
    "\n",
    "Si una pieza de un asteroide que es más grande que 25 metros pero más pequeña que 1000 metros golpeara la Tierra, causaría mucho daño.\n",
    "También discutimos en el ejercicio anterior que:\n",
    "\n",
    "La velocidad del asteroide varía en función de lo cerca que esté del sol, y cualquier velocidad superior a 25 kilómetros por segundo (km/s) merece una advertencia.\n",
    "Si un asteroide entra en la atmósfera de la Tierra a una velocidad mayor o igual a 20 km/s, a veces produce un rayo de luz que se puede ver desde la Tierra.\n",
    "\n",
    "Usando toda esta información, escribe un programa que emita la advertencia o información correcta a la gente de la Tierra, según la velocidad y el tamaño de un asteroide. Utiliza instrucciones if, else, y elif, así como los operadores and y or."
   ]
  },
  {
   "cell_type": "code",
   "execution_count": 34,
   "metadata": {},
   "outputs": [
    {
     "name": "stdout",
     "output_type": "stream",
     "text": [
      "Peligro! un Asteroide golpeara la Tierra\n"
     ]
    }
   ],
   "source": [
    "# Agrega el código para crear nuevas variables para la velocidad y el tamaño del asteroide\n",
    "# Para probar el código, prueba con varias velocidades y tamaños\n",
    "# Escribe varias expresiones de prueba o combinaciones de expresiones de prueba para determinar qué mensaje se debe enviar a Tierra.\n",
    "\n",
    "ast= 30\n",
    "vel= 30\n",
    "\n",
    "\n",
    "if ast > 25 or vel > 25:\n",
    "    print(\"Peligro! un Asteroide golpeara la Tierra.\")\n",
    "\n",
    "elif ast < 25 and vel >= 20:\n",
    "    print(\"Un Asteoride se aproxima pero no hay peligro, puedes ver un rayo de luz en el cielo.\")\n",
    "\n",
    "else:\n",
    "    print(\"No hay nada en el cielo.\")\n",
    "\n",
    "    \n",
    "\n",
    "\n",
    "\n",
    "\n",
    "\n",
    "    \n"
   ]
  }
 ],
 "metadata": {
  "interpreter": {
   "hash": "b35ed1df05edd0842942baf167e6250511f44c85ae8ec969dd438632ac46721e"
  },
  "kernelspec": {
   "display_name": "Python 3.9.10 64-bit",
   "language": "python",
   "name": "python3"
  },
  "language_info": {
   "codemirror_mode": {
    "name": "ipython",
    "version": 3
   },
   "file_extension": ".py",
   "mimetype": "text/x-python",
   "name": "python",
   "nbconvert_exporter": "python",
   "pygments_lexer": "ipython3",
   "version": "3.9.10"
  },
  "orig_nbformat": 4
 },
 "nbformat": 4,
 "nbformat_minor": 2
}
