{
 "cells": [
  {
   "cell_type": "code",
   "execution_count": 64,
   "metadata": {},
   "outputs": [
    {
     "name": "stdout",
     "output_type": "stream",
     "text": [
      " \n",
      "On average, the Moon moves 4cm away from the Earth every year\n",
      " \n",
      "The highest daylight temperature of the Moon is 127 C\n",
      " \n",
      "On average, the Moon moves 4cm away from the Earth every year\n",
      " \n",
      "The highest daylight temperature of the Moon is 127 celsius\n"
     ]
    }
   ],
   "source": [
    "text = \"\"\"Interesting facts about the Moon. The Moon is Earth's only satellite. \n",
    "There are several interesting facts about the Moon and how it affects life here on Earth. \n",
    "On average, the Moon moves 4cm away from the Earth every year. \n",
    "This yearly drift is not significant enough to cause immediate effects on Earth. \n",
    "The highest daylight temperature of the Moon is 127 C.\"\"\"\n",
    "\n",
    "text_parts =text.split('.')\n",
    "text_parts\n",
    "\n",
    "key_words = [\"average\",\"temperature\",\"distance\"]\n",
    "\n",
    "for sentence in text_parts:\n",
    "    for key_word in key_words:\n",
    "        if key_word in sentence:\n",
    "            print(sentence)\n",
    "            break\n",
    "\n",
    "for sentence in text_parts:\n",
    "    for key_word in key_words:\n",
    "        if key_word in sentence:\n",
    "               print (sentence.replace(\"C\",\"celsius\"))\n",
    "               break\n"
   ]
  },
  {
   "cell_type": "code",
   "execution_count": 65,
   "metadata": {},
   "outputs": [
    {
     "name": "stdout",
     "output_type": "stream",
     "text": [
      "There is no atmosphere\n",
      "There is no water.\n",
      "\n",
      "Nombre del planeta:Earth\n",
      "Gravity in Moon 1.6199999999999999 m/s2\n",
      "\n",
      "There is red planet.\n",
      "Nombre del planeta:Marte\n",
      "Gravity in Ganímedes14.3 m/s2\n",
      "\n"
     ]
    }
   ],
   "source": [
    "#Datos\n",
    "\n",
    "name =\"Moon\"\n",
    "gravity = 0.00162 \n",
    "planet = \"Earth\"\n",
    "\n",
    "\n",
    "\n",
    "title=f'Gravity in the {name}' \n",
    "\n",
    "data =f\"\"\"There is no atmosphere\\nThere is no water.\n",
    "\n",
    "Nombre del planeta:{planet}\n",
    "Gravity in {name } {gravity * 1000} m/s2\n",
    "\"\"\"\n",
    "template = f\"\"\" {title.title()}\n",
    "{data}\n",
    "\"\"\"\n",
    "print(data)\n",
    "\n",
    "name='Ganímedes'\n",
    "planet='Marte'\n",
    "gravity=0.00143\n",
    "\n",
    "new_data=f\"\"\"There is red planet.\n",
    "Nombre del planeta:{planet}\n",
    "Gravity in {name }{gravity * 10000} m/s2\n",
    "\"\"\"\n",
    "print(new_data.format(name=name,planet=planet,gravity=gravity))\n",
    "\n"
   ]
  }
 ],
 "metadata": {
  "interpreter": {
   "hash": "b35ed1df05edd0842942baf167e6250511f44c85ae8ec969dd438632ac46721e"
  },
  "kernelspec": {
   "display_name": "Python 3.9.10 64-bit",
   "language": "python",
   "name": "python3"
  },
  "language_info": {
   "codemirror_mode": {
    "name": "ipython",
    "version": 3
   },
   "file_extension": ".py",
   "mimetype": "text/x-python",
   "name": "python",
   "nbconvert_exporter": "python",
   "pygments_lexer": "ipython3",
   "version": "3.9.10"
  },
  "orig_nbformat": 4
 },
 "nbformat": 4,
 "nbformat_minor": 2
}
