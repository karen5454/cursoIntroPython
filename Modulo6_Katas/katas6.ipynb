{
 "cells": [
  {
   "cell_type": "markdown",
   "metadata": {},
   "source": [
    "Proyecto sobre información planetaria creando una lista de planetas."
   ]
  },
  {
   "cell_type": "code",
   "execution_count": 7,
   "metadata": {},
   "outputs": [
    {
     "name": "stdout",
     "output_type": "stream",
     "text": [
      "The planets in the solar system is 8\n",
      "The planets in the solar system is 9\n",
      "The last planet is Pluto\n"
     ]
    }
   ],
   "source": [
    "\n",
    "planets = ['Mercury','Venus','Earth','Mars','Jupiter','Saturn','Uranus','Neptune']\n",
    "\n",
    "number_planets= len(planets)\n",
    "print('The planets in the solar system is',number_planets)\n",
    "\n",
    "planets.append('Pluto')\n",
    "number_planets = len(planets)\n",
    "\n",
    "print('The planets in the solar system is',number_planets)\n",
    "print('The last planet is',planets[-1])\n",
    "\n"
   ]
  },
  {
   "cell_type": "markdown",
   "metadata": {},
   "source": [
    "Planetas cercanos al ingresado."
   ]
  },
  {
   "cell_type": "code",
   "execution_count": 17,
   "metadata": {},
   "outputs": [
    {
     "name": "stdout",
     "output_type": "stream",
     "text": [
      "Planets close to Mars\n",
      "['Mercury', 'Venus', 'Earth']\n",
      "Planets far away than Mars\n",
      "['Jupiter', 'Saturn', 'Uranus', 'Neptune']\n"
     ]
    }
   ],
   "source": [
    "planets = ['Mercury','Venus','Earth','Mars','Jupiter','Saturn','Uranus','Neptune']\n",
    "\n",
    "enter_planet=input('Write the name of the planet first capital letter')\n",
    "\n",
    "valor_list = planets.index(enter_planet)\n",
    "\n",
    "print('Planets close to '+ enter_planet)\n",
    "print(planets[0:valor_list])\n",
    "\n",
    "print('Planets far away than '+ enter_planet)\n",
    "print(planets[valor_list + 1:])\n"
   ]
  }
 ],
 "metadata": {
  "interpreter": {
   "hash": "b35ed1df05edd0842942baf167e6250511f44c85ae8ec969dd438632ac46721e"
  },
  "kernelspec": {
   "display_name": "Python 3.9.10 64-bit",
   "language": "python",
   "name": "python3"
  },
  "language_info": {
   "codemirror_mode": {
    "name": "ipython",
    "version": 3
   },
   "file_extension": ".py",
   "mimetype": "text/x-python",
   "name": "python",
   "nbconvert_exporter": "python",
   "pygments_lexer": "ipython3",
   "version": "3.9.10"
  },
  "orig_nbformat": 4
 },
 "nbformat": 4,
 "nbformat_minor": 2
}
