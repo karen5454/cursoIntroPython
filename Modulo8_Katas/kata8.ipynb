{
 "cells": [
  {
   "cell_type": "code",
   "execution_count": 7,
   "metadata": {},
   "outputs": [
    {
     "name": "stdout",
     "output_type": "stream",
     "text": [
      "Mars\n",
      "2\n",
      "Mars has a polar circumference of 6752\n"
     ]
    }
   ],
   "source": [
    "#DICCIONARIO \n",
    "\n",
    "planet={\n",
    "    'name':'Mars',\n",
    "    'moons': 2\n",
    "}\n",
    "\n",
    "print(planet.get('name'))\n",
    "print(planet.get('moons'))\n",
    "\n",
    "\n",
    "planet['circumference (km)']= {\n",
    "    'polar': 6752,\n",
    "    'equatorial':6792\n",
    "}\n",
    "\n",
    "print(f'{planet[\"name\"]} has a polar circumference of {planet[\"circumference (km)\"][\"polar\"]}')\n",
    "\n"
   ]
  },
  {
   "cell_type": "code",
   "execution_count": 104,
   "metadata": {},
   "outputs": [
    {
     "name": "stdout",
     "output_type": "stream",
     "text": [
      "Total de Planetas: 12\n",
      "Total de lunas: 214\n",
      "Promedio de lunas por planetas: 17.833333333333332\n"
     ]
    }
   ],
   "source": [
    "\n",
    "#LUNAS Y PLANETAS\n",
    "planet_moons = {\n",
    " 'mercury': 0,\n",
    "    'venus': 0,\n",
    "    'earth': 1,\n",
    "    'mars': 2,\n",
    "    'jupiter': 79,\n",
    "    'saturn': 82,\n",
    "    'uranus': 27,\n",
    "    'neptune': 14,\n",
    "    'pluto': 5,\n",
    "    'haumea': 2,\n",
    "    'makemake': 1,\n",
    "    'eris': 1\n",
    "}\n",
    "\n",
    "\n",
    "total_moons= suma=(planet_moons.values())\n",
    "\n",
    "planet_moons.values()\n",
    "\n",
    "moons = planet_moons.values()\n",
    "\n",
    "#print(moons)\n",
    "\n",
    "planets = len(planet_moons.keys())\n",
    "planets=suma=(planet_moons)\n",
    "\n",
    "planets = len(planet_moons.keys())\n",
    "print('Total de Planetas:',planets)\n",
    "\n",
    "total_moons = 0\n",
    "for moon in moons:\n",
    "    total_moons = total_moons + moon\n",
    "\n",
    "average = total_moons / planets\n",
    "\n",
    "print('Total de lunas:',total_moons)\n",
    "\n",
    "print('Promedio de lunas por planetas:',average)"
   ]
  }
 ],
 "metadata": {
  "interpreter": {
   "hash": "b35ed1df05edd0842942baf167e6250511f44c85ae8ec969dd438632ac46721e"
  },
  "kernelspec": {
   "display_name": "Python 3.9.10 64-bit",
   "language": "python",
   "name": "python3"
  },
  "language_info": {
   "codemirror_mode": {
    "name": "ipython",
    "version": 3
   },
   "file_extension": ".py",
   "mimetype": "text/x-python",
   "name": "python",
   "nbconvert_exporter": "python",
   "pygments_lexer": "ipython3",
   "version": "3.9.10"
  },
  "orig_nbformat": 4
 },
 "nbformat": 4,
 "nbformat_minor": 2
}
