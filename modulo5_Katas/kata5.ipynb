{
 "cells": [
  {
   "cell_type": "markdown",
   "metadata": {},
   "source": [
    "1.- Calcular distancia entre dos planetas"
   ]
  },
  {
   "cell_type": "code",
   "execution_count": 1,
   "metadata": {},
   "outputs": [
    {
     "name": "stdout",
     "output_type": "stream",
     "text": [
      "-628949330 kms\n",
      "-390577533.93 millas\n"
     ]
    }
   ],
   "source": [
    "\n",
    "tierra = 149597870\n",
    "jupiter = 778547200\n",
    "\n",
    "distancia= (tierra - jupiter)\n",
    "   \n",
    "print (distancia ,'kms')\n",
    "\n",
    "distancia_m = distancia * 0.621\n",
    "print(distancia_m,'millas')\n",
    "\n"
   ]
  },
  {
   "cell_type": "markdown",
   "metadata": {},
   "source": [
    "2.- Leer la distancia del sol para dos planetas, y luego mostrar la distancia entre los planetas en km/millas."
   ]
  },
  {
   "cell_type": "code",
   "execution_count": 3,
   "metadata": {},
   "outputs": [
    {
     "name": "stdout",
     "output_type": "stream",
     "text": [
      "20000 km\n",
      "12420.0 millas\n"
     ]
    }
   ],
   "source": [
    "\n",
    "\"\"\"Mercurio = 57900000\n",
    "Venus = 108200000\n",
    "Tierra = 149600000\n",
    "Marte = 227900000\n",
    "Júpiter\t= 778600000\n",
    "Saturno\t= 1433500000\n",
    "Urano = 2872500000\n",
    "Neptuno\t= 4495100000\"\"\"\n",
    "\n",
    "primer_planet = input (\"Escribe la distancia del 1° planeta\") \n",
    "segundo_planet = input(\"Escribe la distancia del 2° planeta\")\n",
    "\n",
    "primer_planet = int (primer_planet)\n",
    "segundo_planet = int(segundo_planet)\n",
    "\n",
    "distancia = primer_planet * (abs(segundo_planet))\n",
    "print (distancia,'km')\n",
    "\n",
    "distanciaM = distancia * 0.621\n",
    "print(distanciaM,'millas')\n",
    "\n",
    "\n"
   ]
  }
 ],
 "metadata": {
  "interpreter": {
   "hash": "b35ed1df05edd0842942baf167e6250511f44c85ae8ec969dd438632ac46721e"
  },
  "kernelspec": {
   "display_name": "Python 3.9.10 64-bit",
   "language": "python",
   "name": "python3"
  },
  "language_info": {
   "codemirror_mode": {
    "name": "ipython",
    "version": 3
   },
   "file_extension": ".py",
   "mimetype": "text/x-python",
   "name": "python",
   "nbconvert_exporter": "python",
   "pygments_lexer": "ipython3",
   "version": "3.9.10"
  },
  "orig_nbformat": 4
 },
 "nbformat": 4,
 "nbformat_minor": 2
}
