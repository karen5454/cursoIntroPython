{
 "cells": [
  {
   "cell_type": "code",
   "execution_count": 1,
   "metadata": {},
   "outputs": [
    {
     "name": "stdout",
     "output_type": "stream",
     "text": [
      "mars\n",
      "pluto\n",
      "jupiter\n"
     ]
    }
   ],
   "source": [
    "#CICLO AND FOR\n",
    "\n",
    "new_planet_input =''\n",
    "planets_input =[]\n",
    "\n",
    "while new_planet_input.lower() !='done':\n",
    "    if new_planet_input:\n",
    "      planets_input.append(new_planet_input)\n",
    "    new_planet_input=input ('Escribe un planeta,al terminar escribe: done')\n",
    "\n",
    "#planet=''\n",
    "\n",
    "for planet in planets_input:\n",
    "    print(planet)\n",
    "\n"
   ]
  }
 ],
 "metadata": {
  "interpreter": {
   "hash": "b35ed1df05edd0842942baf167e6250511f44c85ae8ec969dd438632ac46721e"
  },
  "kernelspec": {
   "display_name": "Python 3.9.10 64-bit",
   "language": "python",
   "name": "python3"
  },
  "language_info": {
   "codemirror_mode": {
    "name": "ipython",
    "version": 3
   },
   "file_extension": ".py",
   "mimetype": "text/x-python",
   "name": "python",
   "nbconvert_exporter": "python",
   "pygments_lexer": "ipython3",
   "version": "3.9.10"
  },
  "orig_nbformat": 4
 },
 "nbformat": 4,
 "nbformat_minor": 2
}
